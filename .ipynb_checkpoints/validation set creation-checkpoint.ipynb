{
 "cells": [
  {
   "cell_type": "code",
   "execution_count": 1,
   "id": "460571d2",
   "metadata": {},
   "outputs": [],
   "source": [
    "## For data handling\n",
    "import pandas as pd\n",
    "import numpy as np\n"
   ]
  },
  {
   "cell_type": "code",
   "execution_count": 5,
   "id": "aaef45ef",
   "metadata": {},
   "outputs": [],
   "source": [
    "# import train and pairsdata\n",
    "train =pd.read_csv('train.csv')\n",
    "pairs = pd.read_csv('pair3.csv')"
   ]
  },
  {
   "cell_type": "code",
   "execution_count": 44,
   "id": "c9427c30",
   "metadata": {},
   "outputs": [],
   "source": [
    "# Get Ids from pairs dataset\n",
    "ids = list(pairs['id_1'].unique()) + list(pairs['id_2'].unique()) \n",
    "\n",
    "#Create dataframe consisting of these ids.\n",
    "ID =pd.DataFrame(np.reshape([ids],(-1,1)), columns=['ids'])"
   ]
  },
  {
   "cell_type": "code",
   "execution_count": 47,
   "id": "4ed32a90",
   "metadata": {},
   "outputs": [
    {
     "name": "stdout",
     "output_type": "stream",
     "text": [
      "(1138812,) (1008661,)\n"
     ]
    }
   ],
   "source": [
    "print (train['id'].unique().shape, ID['ids'].unique().shape)\n",
    "\n"
   ]
  },
  {
   "cell_type": "code",
   "execution_count": 56,
   "id": "0d6b87f5",
   "metadata": {},
   "outputs": [],
   "source": [
    "#get ids in train dataset that are not in pairs dataset\n",
    "leftover_ids=np.array(list(set(train['id'].unique())-set(ID['ids'].unique())))"
   ]
  },
  {
   "cell_type": "code",
   "execution_count": 95,
   "id": "035e1ff6",
   "metadata": {},
   "outputs": [],
   "source": [
    "# create test set indexed by ids\n",
    "test = train.copy().set_index('id',drop=False)"
   ]
  },
  {
   "cell_type": "code",
   "execution_count": 96,
   "id": "fbf7bc8a",
   "metadata": {
    "scrolled": true
   },
   "outputs": [],
   "source": [
    "#restrict test to the leftover ids\n",
    "test = test.loc[list(leftover_ids)]"
   ]
  },
  {
   "cell_type": "code",
   "execution_count": 98,
   "id": "bed0ebed",
   "metadata": {},
   "outputs": [],
   "source": [
    "series = np.array(range(1,len(test)+1))\n",
    "\n",
    "# reindex by numbers and create copy\n",
    "test2 = test.copy().set_index(series)\n",
    "test2.to_csv('test_big.csv')"
   ]
  },
  {
   "cell_type": "code",
   "execution_count": 101,
   "id": "f1e92aa0",
   "metadata": {},
   "outputs": [],
   "source": [
    "# take a suitable smaller sample for validation purposes.\n",
    "test3 = test2.sample(n=450)\n",
    "test3.to_csv('test_medium.csv')"
   ]
  },
  {
   "cell_type": "code",
   "execution_count": 105,
   "id": "7ea3d021",
   "metadata": {},
   "outputs": [
    {
     "name": "stdout",
     "output_type": "stream",
     "text": [
      "130094 130151\n"
     ]
    }
   ],
   "source": [
    "print(len(test2['point_of_interest'].unique()),\n",
    "len(test2))"
   ]
  },
  {
   "cell_type": "code",
   "execution_count": null,
   "id": "2fcf6bf1",
   "metadata": {},
   "outputs": [],
   "source": []
  }
 ],
 "metadata": {
  "kernelspec": {
   "display_name": "Python 3 (ipykernel)",
   "language": "python",
   "name": "python3"
  },
  "language_info": {
   "codemirror_mode": {
    "name": "ipython",
    "version": 3
   },
   "file_extension": ".py",
   "mimetype": "text/x-python",
   "name": "python",
   "nbconvert_exporter": "python",
   "pygments_lexer": "ipython3",
   "version": "3.9.7"
  }
 },
 "nbformat": 4,
 "nbformat_minor": 5
}
