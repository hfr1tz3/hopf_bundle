{
 "cells": [
  {
   "cell_type": "code",
   "execution_count": 1,
   "id": "941948ed",
   "metadata": {},
   "outputs": [],
   "source": [
    "## For data handling\n",
    "import pandas as pd\n",
    "import numpy as np\n",
    "\n",
    "## For plotting\n",
    "import matplotlib.pyplot as plt\n",
    "import seaborn as sns\n"
   ]
  },
  {
   "cell_type": "code",
   "execution_count": 5,
   "id": "1c89d7f4",
   "metadata": {},
   "outputs": [],
   "source": [
    "# import train and pairsdata\n",
    "train =pd.read_csv('train.csv')\n",
    "pairs = pd.read_csv('pair3.csv')"
   ]
  },
  {
   "cell_type": "code",
   "execution_count": 44,
   "id": "391d2f43",
   "metadata": {},
   "outputs": [],
   "source": [
    "# Get Ids from pairs dataset\n",
    "ids = list(pairs['id_1'].unique()) + list(pairs['id_2'].unique()) \n",
    "\n",
    "#Create dataframe consisting of these ids.\n",
    "ID =pd.DataFrame(np.reshape([ids],(-1,1)), columns=['ids'])"
   ]
  },
  {
   "cell_type": "code",
   "execution_count": 47,
   "id": "d80a875e",
   "metadata": {},
   "outputs": [
    {
     "name": "stdout",
     "output_type": "stream",
     "text": [
      "(1138812,) (1008661,)\n"
     ]
    }
   ],
   "source": [
    "print (train['id'].unique().shape, ID['ids'].unique().shape)\n",
    "\n"
   ]
  },
  {
   "cell_type": "code",
   "execution_count": 56,
   "id": "5e7ae50c",
   "metadata": {},
   "outputs": [],
   "source": [
    "#get ids in train dataset that are not in pairs dataset\n",
    "leftover_ids=np.array(list(set(train['id'].unique())-set(ID['ids'].unique())))"
   ]
  },
  {
   "cell_type": "code",
   "execution_count": 95,
   "id": "c741249a",
   "metadata": {},
   "outputs": [],
   "source": [
    "# create test set indexed by ids\n",
    "test = train.copy().set_index('id',drop=False)"
   ]
  },
  {
   "cell_type": "code",
   "execution_count": 96,
   "id": "84ce1a4d",
   "metadata": {
    "scrolled": true
   },
   "outputs": [],
   "source": [
    "#restrict test to the leftover ids\n",
    "test = test.loc[list(leftover_ids)]"
   ]
  },
  {
   "cell_type": "code",
   "execution_count": 98,
   "id": "509e0ee8",
   "metadata": {},
   "outputs": [],
   "source": [
    "series = np.array(range(1,len(test)+1))\n",
    "\n",
    "# reindex by numbers and create copy\n",
    "test2 = test.copy().set_index(series)\n",
    "test2.to_csv('test_big')"
   ]
  },
  {
   "cell_type": "code",
   "execution_count": 101,
   "id": "f105a59c",
   "metadata": {},
   "outputs": [],
   "source": [
    "# take a suitable smaller sample for validation purposes.\n",
    "test3 = test2.sample(n=450)\n",
    "test3.to_csv('test_medium.csv')"
   ]
  },
  {
   "cell_type": "code",
   "execution_count": 100,
   "id": "55f0c741",
   "metadata": {},
   "outputs": [
    {
     "data": {
      "text/plain": [
       "578907"
      ]
     },
     "execution_count": 100,
     "metadata": {},
     "output_type": "execute_result"
    }
   ],
   "source": []
  },
  {
   "cell_type": "code",
   "execution_count": null,
   "id": "f882b421",
   "metadata": {},
   "outputs": [],
   "source": []
  }
 ],
 "metadata": {
  "kernelspec": {
   "display_name": "Python 3 (ipykernel)",
   "language": "python",
   "name": "python3"
  },
  "language_info": {
   "codemirror_mode": {
    "name": "ipython",
    "version": 3
   },
   "file_extension": ".py",
   "mimetype": "text/x-python",
   "name": "python",
   "nbconvert_exporter": "python",
   "pygments_lexer": "ipython3",
   "version": "3.9.7"
  }
 },
 "nbformat": 4,
 "nbformat_minor": 5
}
